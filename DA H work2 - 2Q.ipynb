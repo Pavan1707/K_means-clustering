{
 "cells": [
  {
   "cell_type": "code",
   "execution_count": 1,
   "id": "fd0b309e",
   "metadata": {},
   "outputs": [],
   "source": [
    "import numpy as np\n",
    "import pandas as pd\n",
    "import matplotlib.pyplot as plt\n",
    "from sklearn.preprocessing import StandardScaler\n",
    "from sklearn.decomposition import PCA\n",
    "from sklearn.cluster import KMeans\n",
    "from scipy import stats\n",
    "from sklearn.metrics import silhouette_score\n",
    "from sklearn.metrics import adjusted_rand_score"
   ]
  },
  {
   "cell_type": "markdown",
   "id": "ae18722c",
   "metadata": {},
   "source": [
    "# renaming the column names in the given iris data set."
   ]
  },
  {
   "cell_type": "code",
   "execution_count": 2,
   "id": "75c95dac",
   "metadata": {},
   "outputs": [
    {
     "data": {
      "text/html": [
       "<div>\n",
       "<style scoped>\n",
       "    .dataframe tbody tr th:only-of-type {\n",
       "        vertical-align: middle;\n",
       "    }\n",
       "\n",
       "    .dataframe tbody tr th {\n",
       "        vertical-align: top;\n",
       "    }\n",
       "\n",
       "    .dataframe thead th {\n",
       "        text-align: right;\n",
       "    }\n",
       "</style>\n",
       "<table border=\"1\" class=\"dataframe\">\n",
       "  <thead>\n",
       "    <tr style=\"text-align: right;\">\n",
       "      <th></th>\n",
       "      <th>sepal length</th>\n",
       "      <th>sepal width</th>\n",
       "      <th>petal length</th>\n",
       "      <th>petal width</th>\n",
       "      <th>species_name</th>\n",
       "    </tr>\n",
       "  </thead>\n",
       "  <tbody>\n",
       "    <tr>\n",
       "      <th>0</th>\n",
       "      <td>5.1</td>\n",
       "      <td>3.5</td>\n",
       "      <td>1.4</td>\n",
       "      <td>0.2</td>\n",
       "      <td>Iris-setosa</td>\n",
       "    </tr>\n",
       "    <tr>\n",
       "      <th>1</th>\n",
       "      <td>4.9</td>\n",
       "      <td>3.0</td>\n",
       "      <td>1.4</td>\n",
       "      <td>0.2</td>\n",
       "      <td>Iris-setosa</td>\n",
       "    </tr>\n",
       "    <tr>\n",
       "      <th>2</th>\n",
       "      <td>4.7</td>\n",
       "      <td>3.2</td>\n",
       "      <td>1.3</td>\n",
       "      <td>0.2</td>\n",
       "      <td>Iris-setosa</td>\n",
       "    </tr>\n",
       "    <tr>\n",
       "      <th>3</th>\n",
       "      <td>4.6</td>\n",
       "      <td>3.1</td>\n",
       "      <td>1.5</td>\n",
       "      <td>0.2</td>\n",
       "      <td>Iris-setosa</td>\n",
       "    </tr>\n",
       "    <tr>\n",
       "      <th>4</th>\n",
       "      <td>5.0</td>\n",
       "      <td>3.6</td>\n",
       "      <td>1.4</td>\n",
       "      <td>0.2</td>\n",
       "      <td>Iris-setosa</td>\n",
       "    </tr>\n",
       "    <tr>\n",
       "      <th>...</th>\n",
       "      <td>...</td>\n",
       "      <td>...</td>\n",
       "      <td>...</td>\n",
       "      <td>...</td>\n",
       "      <td>...</td>\n",
       "    </tr>\n",
       "    <tr>\n",
       "      <th>145</th>\n",
       "      <td>6.7</td>\n",
       "      <td>3.0</td>\n",
       "      <td>5.2</td>\n",
       "      <td>2.3</td>\n",
       "      <td>Iris-virginica</td>\n",
       "    </tr>\n",
       "    <tr>\n",
       "      <th>146</th>\n",
       "      <td>6.3</td>\n",
       "      <td>2.5</td>\n",
       "      <td>5.0</td>\n",
       "      <td>1.9</td>\n",
       "      <td>Iris-virginica</td>\n",
       "    </tr>\n",
       "    <tr>\n",
       "      <th>147</th>\n",
       "      <td>6.5</td>\n",
       "      <td>3.0</td>\n",
       "      <td>5.2</td>\n",
       "      <td>2.0</td>\n",
       "      <td>Iris-virginica</td>\n",
       "    </tr>\n",
       "    <tr>\n",
       "      <th>148</th>\n",
       "      <td>6.2</td>\n",
       "      <td>3.4</td>\n",
       "      <td>5.4</td>\n",
       "      <td>2.3</td>\n",
       "      <td>Iris-virginica</td>\n",
       "    </tr>\n",
       "    <tr>\n",
       "      <th>149</th>\n",
       "      <td>5.9</td>\n",
       "      <td>3.0</td>\n",
       "      <td>5.1</td>\n",
       "      <td>1.8</td>\n",
       "      <td>Iris-virginica</td>\n",
       "    </tr>\n",
       "  </tbody>\n",
       "</table>\n",
       "<p>150 rows × 5 columns</p>\n",
       "</div>"
      ],
      "text/plain": [
       "     sepal length  sepal width  petal length  petal width    species_name\n",
       "0             5.1          3.5           1.4          0.2     Iris-setosa\n",
       "1             4.9          3.0           1.4          0.2     Iris-setosa\n",
       "2             4.7          3.2           1.3          0.2     Iris-setosa\n",
       "3             4.6          3.1           1.5          0.2     Iris-setosa\n",
       "4             5.0          3.6           1.4          0.2     Iris-setosa\n",
       "..            ...          ...           ...          ...             ...\n",
       "145           6.7          3.0           5.2          2.3  Iris-virginica\n",
       "146           6.3          2.5           5.0          1.9  Iris-virginica\n",
       "147           6.5          3.0           5.2          2.0  Iris-virginica\n",
       "148           6.2          3.4           5.4          2.3  Iris-virginica\n",
       "149           5.9          3.0           5.1          1.8  Iris-virginica\n",
       "\n",
       "[150 rows x 5 columns]"
      ]
     },
     "execution_count": 2,
     "metadata": {},
     "output_type": "execute_result"
    }
   ],
   "source": [
    "df1 = pd.read_csv(\"C:\\\\Users\\\\pavan\\\\Downloads\\\\iris.csv\", header= None)\n",
    "df1.columns = ['sepal length','sepal width', 'petal length', 'petal width', 'species_name']\n",
    "df1"
   ]
  },
  {
   "cell_type": "code",
   "execution_count": 3,
   "id": "cbf52c32",
   "metadata": {},
   "outputs": [],
   "source": [
    "df = df1.drop(['species_name'],axis= 1)\n"
   ]
  },
  {
   "cell_type": "code",
   "execution_count": 4,
   "id": "65ed9614",
   "metadata": {},
   "outputs": [],
   "source": [
    "from sklearn.preprocessing import StandardScaler\n",
    "scaler = StandardScaler()\n",
    "scaler.fit(df)\n",
    "scaled_data = scaler.transform(df)\n"
   ]
  },
  {
   "cell_type": "markdown",
   "id": "c1d8a795",
   "metadata": {},
   "source": [
    "# Principal components is 1"
   ]
  },
  {
   "cell_type": "code",
   "execution_count": 5,
   "id": "90110732",
   "metadata": {},
   "outputs": [],
   "source": [
    "pca_1 = PCA(n_components=1)  # applying pca with component 1\n",
    "A = pca_1.fit_transform(scaled_data)\n"
   ]
  },
  {
   "cell_type": "code",
   "execution_count": 6,
   "id": "bad713f8",
   "metadata": {},
   "outputs": [
    {
     "name": "stdout",
     "output_type": "stream",
     "text": [
      "silhouette_score  is  0.6754183875905297\n"
     ]
    }
   ],
   "source": [
    "k_means_1 = KMeans(n_clusters= 3) # applying k means clustering for principal component 1\n",
    "k_means_1.fit(A)\n",
    "ss1 = silhouette_score(A, k_means_1.labels_)\n",
    "print(\"silhouette_score  is \",ss1)\n"
   ]
  },
  {
   "cell_type": "code",
   "execution_count": 7,
   "id": "0b63db21",
   "metadata": {},
   "outputs": [],
   "source": [
    "true_value = df1['species_name']  # true value is considered from the data set given.\n"
   ]
  },
  {
   "cell_type": "code",
   "execution_count": 10,
   "id": "03ea15d0",
   "metadata": {},
   "outputs": [
    {
     "data": {
      "text/plain": [
       "0         Iris-setosa\n",
       "1         Iris-setosa\n",
       "2         Iris-setosa\n",
       "3         Iris-setosa\n",
       "4         Iris-setosa\n",
       "            ...      \n",
       "145    Iris-virginica\n",
       "146    Iris-virginica\n",
       "147    Iris-virginica\n",
       "148    Iris-virginica\n",
       "149    Iris-virginica\n",
       "Name: species_name, Length: 150, dtype: object"
      ]
     },
     "execution_count": 10,
     "metadata": {},
     "output_type": "execute_result"
    }
   ],
   "source": [
    "true_value"
   ]
  },
  {
   "cell_type": "code",
   "execution_count": 212,
   "id": "34c48004",
   "metadata": {},
   "outputs": [
    {
     "name": "stdout",
     "output_type": "stream",
     "text": [
      "adjusted rand score is 0.8015498244339508\n"
     ]
    }
   ],
   "source": [
    "ars1 = adjusted_rand_score(true_value , k_means_1.labels_)\n",
    "print(\"adjusted rand score is\", ars1)"
   ]
  },
  {
   "cell_type": "code",
   "execution_count": null,
   "id": "f11e733c",
   "metadata": {},
   "outputs": [],
   "source": []
  },
  {
   "cell_type": "markdown",
   "id": "9d14d873",
   "metadata": {},
   "source": [
    "#  pricipal components is 2"
   ]
  },
  {
   "cell_type": "code",
   "execution_count": 213,
   "id": "7b1fad35",
   "metadata": {},
   "outputs": [],
   "source": [
    "pca_2 = PCA(n_components=2) #  applying pca with component 2\n",
    "B = pca_2.fit_transform(scaled_data)\n"
   ]
  },
  {
   "cell_type": "code",
   "execution_count": 254,
   "id": "28ea0cda",
   "metadata": {},
   "outputs": [
    {
     "name": "stdout",
     "output_type": "stream",
     "text": [
      "silhouette_score is  0.5091683341538229\n"
     ]
    }
   ],
   "source": [
    "k_means_2 = KMeans(n_clusters= 3) # applying k means clustering for principal component  2\n",
    "k_means_2.fit(B)\n",
    "ss2 = silhouette_score(B, k_means_2.labels_)\n",
    "print(\"silhouette_score is \",ss2)\n"
   ]
  },
  {
   "cell_type": "code",
   "execution_count": 215,
   "id": "bffbf955",
   "metadata": {},
   "outputs": [
    {
     "name": "stdout",
     "output_type": "stream",
     "text": [
      "adjusted rand score is 0.6201351808870379\n"
     ]
    }
   ],
   "source": [
    "ars2 = adjusted_rand_score(true_value , k_means_2.labels_)\n",
    "print(\"adjusted rand score is\", ars2)"
   ]
  },
  {
   "cell_type": "code",
   "execution_count": null,
   "id": "3f1c77df",
   "metadata": {},
   "outputs": [],
   "source": []
  },
  {
   "cell_type": "markdown",
   "id": "0b0f0da8",
   "metadata": {},
   "source": [
    "#  pricipal components be 3"
   ]
  },
  {
   "cell_type": "code",
   "execution_count": 216,
   "id": "39be21cf",
   "metadata": {},
   "outputs": [],
   "source": [
    "pca_3 = PCA(n_components=3)  # applying pca with component 3\n",
    "C = pca_3.fit_transform(scaled_data)"
   ]
  },
  {
   "cell_type": "code",
   "execution_count": 256,
   "id": "f27e744a",
   "metadata": {},
   "outputs": [
    {
     "name": "stdout",
     "output_type": "stream",
     "text": [
      "silhouette_score is  0.46613062910381436\n"
     ]
    }
   ],
   "source": [
    "k_means_3 = KMeans(n_clusters= 3) # applying k means clustering for principal component 3\n",
    "k_means_3.fit(C)\n",
    "ss3 = silhouette_score(C, k_means_3.labels_)\n",
    "print(\"silhouette_score is \",ss3)\n"
   ]
  },
  {
   "cell_type": "code",
   "execution_count": 218,
   "id": "9ff4ba0a",
   "metadata": {},
   "outputs": [
    {
     "name": "stdout",
     "output_type": "stream",
     "text": [
      "adjusted rand score is 0.5923326221845838\n"
     ]
    }
   ],
   "source": [
    "ars3 = adjusted_rand_score(true_value , k_means_3.labels_)\n",
    "print(\"adjusted rand score is\", ars3)"
   ]
  },
  {
   "cell_type": "code",
   "execution_count": null,
   "id": "c26f7440",
   "metadata": {},
   "outputs": [],
   "source": []
  },
  {
   "cell_type": "markdown",
   "id": "77eb26eb",
   "metadata": {},
   "source": [
    "# Now the principal components be 4"
   ]
  },
  {
   "cell_type": "code",
   "execution_count": 227,
   "id": "ffd6c363",
   "metadata": {},
   "outputs": [],
   "source": [
    "pca_4 = PCA(n_components=4) # applying pca with component\n",
    "D = pca_4.fit_transform(scaled_data)"
   ]
  },
  {
   "cell_type": "code",
   "execution_count": 257,
   "id": "0eb86abd",
   "metadata": {},
   "outputs": [
    {
     "name": "stdout",
     "output_type": "stream",
     "text": [
      "silhouette_score is  0.45994823920518646\n"
     ]
    }
   ],
   "source": [
    "k_means_4 = KMeans(n_clusters= 3) # applying k means clustering for principal component 4\n",
    "k_means_4.fit(D)\n",
    "ss4 = silhouette_score(D, k_means_4.labels_)\n",
    "print(\"silhouette_score is \",ss4)\n"
   ]
  },
  {
   "cell_type": "code",
   "execution_count": 229,
   "id": "d1506b8e",
   "metadata": {},
   "outputs": [
    {
     "name": "stdout",
     "output_type": "stream",
     "text": [
      "adjusted rand score is 0.6201351808870379\n"
     ]
    }
   ],
   "source": [
    "ars4 = adjusted_rand_score(true_value , k_means_4.labels_)\n",
    "print(\"adjusted rand score is\", ars4)"
   ]
  },
  {
   "cell_type": "code",
   "execution_count": null,
   "id": "a974fa0b",
   "metadata": {},
   "outputs": [],
   "source": []
  },
  {
   "cell_type": "markdown",
   "id": "7628ae0d",
   "metadata": {},
   "source": [
    "# silhouette scores :"
   ]
  },
  {
   "cell_type": "code",
   "execution_count": 259,
   "id": "d51b1fdd",
   "metadata": {},
   "outputs": [
    {
     "name": "stdout",
     "output_type": "stream",
     "text": [
      "All 4 silhouette scores are : 0.6754183875905297 \n",
      " 0.5091683341538229 \n",
      " 0.46613062910381436 \n",
      " 0.45994823920518646\n"
     ]
    }
   ],
   "source": [
    "print(\"All 4 silhouette scores are :\" ,ss1,\"\\n\", ss2,\"\\n\", ss3,\"\\n\", ss4)"
   ]
  },
  {
   "cell_type": "markdown",
   "id": "fa365b0f",
   "metadata": {},
   "source": [
    "# comment : Here, the silhouette score is high for the PCA with principal component 1, and the score will get reduced if the number of principal components increases. "
   ]
  },
  {
   "cell_type": "code",
   "execution_count": null,
   "id": "f4ef69a1",
   "metadata": {},
   "outputs": [],
   "source": []
  },
  {
   "cell_type": "markdown",
   "id": "da41e4bf",
   "metadata": {},
   "source": [
    "# adjusted rand index"
   ]
  },
  {
   "cell_type": "code",
   "execution_count": 260,
   "id": "9641e23b",
   "metadata": {},
   "outputs": [
    {
     "name": "stdout",
     "output_type": "stream",
     "text": [
      "All 4 adjusted rand indices are : 0.8015498244339508 \n",
      " 0.6201351808870379 \n",
      " 0.5923326221845838 \n",
      " 0.6201351808870379\n"
     ]
    }
   ],
   "source": [
    "print(\"All 4 adjusted rand indices are :\",ars1,\"\\n\",ars2,\"\\n\",ars3,\"\\n\",ars4)"
   ]
  },
  {
   "cell_type": "markdown",
   "id": "10a2be78",
   "metadata": {},
   "source": [
    "# comment: Adjusted rand score will be higher for PCA with principal component 1 and it will reduce if the number of components increases."
   ]
  },
  {
   "cell_type": "code",
   "execution_count": null,
   "id": "bd336800",
   "metadata": {},
   "outputs": [],
   "source": []
  },
  {
   "cell_type": "code",
   "execution_count": null,
   "id": "9f388d66",
   "metadata": {},
   "outputs": [],
   "source": []
  }
 ],
 "metadata": {
  "kernelspec": {
   "display_name": "Python 3 (ipykernel)",
   "language": "python",
   "name": "python3"
  },
  "language_info": {
   "codemirror_mode": {
    "name": "ipython",
    "version": 3
   },
   "file_extension": ".py",
   "mimetype": "text/x-python",
   "name": "python",
   "nbconvert_exporter": "python",
   "pygments_lexer": "ipython3",
   "version": "3.9.12"
  }
 },
 "nbformat": 4,
 "nbformat_minor": 5
}
